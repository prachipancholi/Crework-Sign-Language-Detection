{
 "cells": [
  {
   "cell_type": "code",
   "execution_count": 1,
   "metadata": {},
   "outputs": [
    {
     "name": "stderr",
     "output_type": "stream",
     "text": [
      "Cloning into 'Realtime'...\n"
     ]
    }
   ],
   "source": [
    "!git clone https://github.com/shireenchand/Realtime.git"
   ]
  },
  {
   "cell_type": "code",
   "execution_count": 2,
   "metadata": {},
   "outputs": [
    {
     "name": "stdout",
     "output_type": "stream",
     "text": [
      "C:\\Users\\prach\\RealTimeFinal\\RealTime\n"
     ]
    }
   ],
   "source": [
    "%cd RealTime"
   ]
  },
  {
   "cell_type": "code",
   "execution_count": 4,
   "metadata": {},
   "outputs": [
    {
     "name": "stdout",
     "output_type": "stream",
     "text": [
      "1999"
     ]
    },
    {
     "name": "stderr",
     "output_type": "stream",
     "text": [
      "[ WARN:12] global C:\\Users\\appveyor\\AppData\\Local\\Temp\\1\\pip-req-build-h4wtvo23\\opencv\\modules\\videoio\\src\\cap_msmf.cpp (435) `anonymous-namespace'::SourceReaderCB::~SourceReaderCB terminating async callback\n"
     ]
    },
    {
     "name": "stdout",
     "output_type": "stream",
     "text": [
      "\n",
      "330\n",
      "Frames could not be read\n",
      "27\n",
      "0\n",
      "1330\n",
      "Frames could not be read\n",
      "27\n",
      "660\n",
      "Frames could not be read\n",
      "27\n",
      "Frames could not be read\n",
      "27\n",
      "Frames could not be read\n",
      "27\n",
      "866\n",
      "Frames could not be read\n",
      "27\n",
      "Frames could not be read\n",
      "27\n",
      "end\n",
      "['1999', '330', '27', '0', '1330', '27', '660', '27', '27', '27', '866', '27', '27']\n",
      "whistle talk hello book cabbage hello brag hello hello hello dumb hello hello\n",
      "330\n",
      "Details : whistle hello book cole hello bragging hello hello stupid hello hello hello\n",
      "Frames could not be read\n",
      "27\n",
      "end\n",
      "['330', '27']\n",
      "talk hello\n",
      "Details : say hi\n",
      "26\n",
      "330\n",
      "end\n",
      "['26', '330']\n",
      "now talk\n",
      "Details : say now\n",
      "Frames could not be read\n",
      "27\n",
      "end\n",
      "['27']\n",
      "hello\n",
      "260\n",
      "Details : Hello\n",
      "Frames could not be read\n",
      "end\n",
      "['260']\n",
      "back\n",
      "27\n",
      "Details : back\n",
      "Frames could not be read\n",
      "27\n",
      "Frames could not be read\n",
      "end\n",
      "['27', '27']\n",
      "hello hello\n",
      "27\n",
      "Details : Hello\n",
      "866\n"
     ]
    }
   ],
   "source": [
    "!python new.py"
   ]
  },
  {
   "cell_type": "code",
   "execution_count": null,
   "metadata": {},
   "outputs": [],
   "source": []
  }
 ],
 "metadata": {
  "kernelspec": {
   "display_name": "Python 3",
   "language": "python",
   "name": "python3"
  },
  "language_info": {
   "codemirror_mode": {
    "name": "ipython",
    "version": 3
   },
   "file_extension": ".py",
   "mimetype": "text/x-python",
   "name": "python",
   "nbconvert_exporter": "python",
   "pygments_lexer": "ipython3",
   "version": "3.8.5"
  }
 },
 "nbformat": 4,
 "nbformat_minor": 4
}
